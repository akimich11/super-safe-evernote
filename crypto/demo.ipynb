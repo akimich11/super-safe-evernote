{
 "cells": [
  {
   "cell_type": "markdown",
   "source": [
    "## Elliptic group generation demo"
   ],
   "metadata": {
    "collapsed": false
   }
  },
  {
   "cell_type": "code",
   "execution_count": 1,
   "outputs": [
    {
     "data": {
      "text/plain": "{(1, 24),\n (1, 47),\n (2, 21),\n (2, 50),\n (6, 9),\n (6, 62),\n (11, 29),\n (11, 42),\n (13, 28),\n (13, 43),\n (15, 20),\n (15, 51),\n (19, 11),\n (19, 60),\n (21, 31),\n (21, 40),\n (22, 17),\n (22, 54),\n (24, 25),\n (24, 46),\n (25, 15),\n (25, 56),\n (28, 34),\n (28, 37),\n (29, 16),\n (29, 55),\n (30, 13),\n (30, 58),\n (31, 7),\n (31, 64),\n (33, 35),\n (33, 36),\n (34, 30),\n (34, 41),\n (36, 4),\n (36, 67),\n (37, 26),\n (37, 45),\n (40, 6),\n (40, 65),\n (41, 22),\n (41, 49),\n (46, 12),\n (46, 59),\n (49, 3),\n (49, 68),\n (51, 32),\n (51, 39),\n (54, 8),\n (54, 63),\n (55, 10),\n (55, 61),\n (56, 18),\n (56, 53),\n (57, 23),\n (57, 48),\n (59, 14),\n (59, 57),\n (60, 5),\n (60, 66),\n (61, 1),\n (61, 70),\n (64, 27),\n (64, 44),\n (65, 2),\n (65, 69),\n (66, 33),\n (66, 38),\n (70, 19),\n (70, 52)}"
     },
     "execution_count": 1,
     "metadata": {},
     "output_type": "execute_result"
    }
   ],
   "source": [
    "from crypto.ecc import generate_group\n",
    "\n",
    "group = generate_group(a=0, b=7, m=71)\n",
    "group"
   ],
   "metadata": {
    "collapsed": false
   }
  },
  {
   "cell_type": "code",
   "execution_count": 2,
   "outputs": [
    {
     "data": {
      "text/plain": "70"
     },
     "execution_count": 2,
     "metadata": {},
     "output_type": "execute_result"
    }
   ],
   "source": [
    "group_order = len(group)\n",
    "group_order"
   ],
   "metadata": {
    "collapsed": false
   }
  },
  {
   "cell_type": "markdown",
   "source": [
    "## Base point choice\n",
    "\n",
    "Let subgroup order be $n = 7$, so subgroup cofactor is $h = \\frac{70}{7} = 10$. Let's take $P = (2, 50)$ and calculate $G = hP$. It will be the base point."
   ],
   "metadata": {
    "collapsed": false
   }
  },
  {
   "cell_type": "code",
   "execution_count": 3,
   "outputs": [
    {
     "data": {
      "text/plain": "(40, 65)"
     },
     "execution_count": 3,
     "metadata": {},
     "output_type": "execute_result"
    }
   ],
   "source": [
    "from crypto.ecc import scalar_mult\n",
    "\n",
    "\n",
    "h = 10\n",
    "P = (2, 50)\n",
    "\n",
    "G = scalar_mult(h, P)\n",
    "G"
   ],
   "metadata": {
    "collapsed": false
   }
  },
  {
   "cell_type": "markdown",
   "source": [
    "## ECDH demo"
   ],
   "metadata": {
    "collapsed": false
   }
  },
  {
   "cell_type": "code",
   "execution_count": 4,
   "outputs": [
    {
     "name": "stdout",
     "output_type": "stream",
     "text": [
      "Curve: EllipticCurve(name='E71(0, 7)', p=71, a=0, b=7, g=(40, 65), n=7, h=10)\n",
      "Alice's private key: 0x6\n",
      "Alice's public key: (0x40, 0x1b)\n",
      "Bob's private key: 0x1\n",
      "Bob's public key: (0x28, 0x41)\n",
      "Shared secret: (0x40, 0x1b)\n"
     ]
    }
   ],
   "source": [
    "from crypto.ecdh import make_keypair\n",
    "from crypto.ecc import curve, scalar_mult\n",
    "\n",
    "print('Curve:', curve)\n",
    "\n",
    "# Alice generates her own keypair.\n",
    "alice_private_key, alice_public_key = make_keypair()\n",
    "print(\"Alice's private key:\", hex(alice_private_key))\n",
    "print(\"Alice's public key: (0x{:x}, 0x{:x})\".format(*alice_public_key))\n",
    "\n",
    "# Bob generates his own key pair.\n",
    "bob_private_key, bob_public_key = make_keypair()\n",
    "print(\"Bob's private key:\", hex(bob_private_key))\n",
    "print(\"Bob's public key: (0x{:x}, 0x{:x})\".format(*bob_public_key))\n",
    "\n",
    "# Alice and Bob exchange their public keys and calculate the shared secret.\n",
    "s1 = scalar_mult(alice_private_key, bob_public_key)\n",
    "s2 = scalar_mult(bob_private_key, alice_public_key)\n",
    "assert s1 == s2\n",
    "\n",
    "print('Shared secret: (0x{:x}, 0x{:x})'.format(*s1))"
   ],
   "metadata": {
    "collapsed": false
   }
  },
  {
   "cell_type": "markdown",
   "source": [
    "## ECDSA demo\n",
    "The script first signs a message (the byte string `\"Hello!\"`), then verifies the signature. Afterwards, it tries to verify the same signature against another message (`\"Hi there!\"`) and verification fails. Lastly, it tries to verify the signature against the correct message, but using __another random public key__ and verification fails again."
   ],
   "metadata": {
    "collapsed": false
   }
  },
  {
   "cell_type": "code",
   "execution_count": 5,
   "outputs": [
    {
     "name": "stdout",
     "output_type": "stream",
     "text": [
      "Curve: E71(0, 7)\n",
      "Private key: 0x1\n",
      "Public key: (0x28, 0x41)\n",
      "\n",
      "Message: b'Hello!'\n",
      "Signature: (0x1, 0x6)\n",
      "Verification: signature matches\n",
      "\n",
      "Message: b'Hi there!'\n",
      "Verification: invalid signature\n",
      "\n",
      "Message: b'Hello!'\n",
      "Public key: (0x16, 0x11)\n",
      "Verification: invalid signature\n"
     ]
    }
   ],
   "source": [
    "from crypto.ecdsa import sign_message, verify_signature\n",
    "\n",
    "print('Curve:', curve.name)\n",
    "\n",
    "private, public = make_keypair()\n",
    "print(\"Private key:\", hex(private))\n",
    "print(\"Public key: (0x{:x}, 0x{:x})\".format(*public))\n",
    "\n",
    "msg = b'Hello!'\n",
    "sign = sign_message(private, msg)\n",
    "\n",
    "print()\n",
    "print('Message:', msg)\n",
    "print('Signature: (0x{:x}, 0x{:x})'.format(*sign))\n",
    "print('Verification:', verify_signature(public, msg, sign))\n",
    "\n",
    "msg = b'Hi there!'\n",
    "print()\n",
    "print('Message:', msg)\n",
    "print('Verification:', verify_signature(public, msg, sign))\n",
    "\n",
    "private, public = make_keypair()\n",
    "\n",
    "msg = b'Hello!'\n",
    "print()\n",
    "print('Message:', msg)\n",
    "print(\"Public key: (0x{:x}, 0x{:x})\".format(*public))\n",
    "print('Verification:', verify_signature(public, msg, sign))\n"
   ],
   "metadata": {
    "collapsed": false
   }
  },
  {
   "cell_type": "code",
   "execution_count": 5,
   "outputs": [],
   "source": [],
   "metadata": {
    "collapsed": false
   }
  }
 ],
 "metadata": {
  "kernelspec": {
   "display_name": "Python 3",
   "language": "python",
   "name": "python3"
  },
  "language_info": {
   "codemirror_mode": {
    "name": "ipython",
    "version": 2
   },
   "file_extension": ".py",
   "mimetype": "text/x-python",
   "name": "python",
   "nbconvert_exporter": "python",
   "pygments_lexer": "ipython2",
   "version": "2.7.6"
  }
 },
 "nbformat": 4,
 "nbformat_minor": 0
}
