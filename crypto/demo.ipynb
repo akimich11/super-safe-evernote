{
 "cells": [
  {
   "cell_type": "markdown",
   "source": [
    "## Elliptic group generation demo"
   ],
   "metadata": {
    "collapsed": false
   }
  },
  {
   "cell_type": "code",
   "execution_count": 5,
   "outputs": [
    {
     "data": {
      "text/plain": "{0,\n 2,\n 3,\n 4,\n 5,\n 6,\n 11,\n 12,\n 13,\n 14,\n 15,\n 16,\n 17,\n 18,\n 21,\n 23,\n 24,\n 25,\n 27,\n 28,\n 29,\n 30,\n 31,\n 33,\n 34,\n 35,\n 36,\n 37,\n 38,\n 40,\n 41,\n 42,\n 43,\n 44,\n 46,\n 47,\n 48,\n 50,\n 53,\n 54,\n 55,\n 56,\n 57,\n 58,\n 59,\n 60,\n 65,\n 66,\n 67,\n 68,\n 69}"
     },
     "execution_count": 5,
     "metadata": {},
     "output_type": "execute_result"
    }
   ],
   "source": [
    "from crypto.ecc import generate_group\n",
    "\n",
    "generate_group(a=0, b=7, m=71)"
   ],
   "metadata": {
    "collapsed": false
   }
  },
  {
   "cell_type": "markdown",
   "source": [
    "## ECDH demo"
   ],
   "metadata": {
    "collapsed": false
   }
  },
  {
   "cell_type": "code",
   "execution_count": 6,
   "outputs": [
    {
     "name": "stdout",
     "output_type": "stream",
     "text": [
      "Curve: secp256k1\n",
      "Alice's private key: 0x371ecd7b27cd813047229389571aa8766c307511b2b9437a28df6ec4ce4a2bbe\n",
      "Alice's public key: (0x80c15d7432d18c78529b95f6677dfc57ae22024789eefed400dbfebcdc8341da, 0x160e0c2c5f75c78e26645195c20656f58c2295a8bbd6b8a4165960a973b4fa3d)\n",
      "Bob's private key: 0x5be6128e18c267976142ea7d17be31111a2a73ed562b0f79c37459eef50bea64\n",
      "Bob's public key: (0x43a4a3cb083b0736b57828ff442751043289e6e64dcbefe04a7278ebe79a5301, 0xcb691fa02a97d9d587dda5232d2bccb2327872ca416fbe5ccc5b904cd8d27117)\n",
      "Shared secret: (0x6877e2b21ab4ba09ab19b2baf6348780376dc486c34b701dc5e2ab1cefd6ee91, 0x957c24151a54624b2b0b84e4cc50984d341def1af48ffcfcbbbd434ba1ad94b3)\n"
     ]
    }
   ],
   "source": [
    "from crypto.ecdh import make_keypair\n",
    "from crypto.ecc import curve, scalar_mult\n",
    "\n",
    "print('Curve:', curve.name)\n",
    "\n",
    "# Alice generates her own keypair.\n",
    "alice_private_key, alice_public_key = make_keypair()\n",
    "print(\"Alice's private key:\", hex(alice_private_key))\n",
    "print(\"Alice's public key: (0x{:x}, 0x{:x})\".format(*alice_public_key))\n",
    "\n",
    "# Bob generates his own key pair.\n",
    "bob_private_key, bob_public_key = make_keypair()\n",
    "print(\"Bob's private key:\", hex(bob_private_key))\n",
    "print(\"Bob's public key: (0x{:x}, 0x{:x})\".format(*bob_public_key))\n",
    "\n",
    "# Alice and Bob exchange their public keys and calculate the shared secret.\n",
    "s1 = scalar_mult(alice_private_key, bob_public_key)\n",
    "s2 = scalar_mult(bob_private_key, alice_public_key)\n",
    "assert s1 == s2\n",
    "\n",
    "print('Shared secret: (0x{:x}, 0x{:x})'.format(*s1))"
   ],
   "metadata": {
    "collapsed": false
   }
  },
  {
   "cell_type": "markdown",
   "source": [
    "## ECDSA demo"
   ],
   "metadata": {
    "collapsed": false
   }
  },
  {
   "cell_type": "code",
   "execution_count": 7,
   "outputs": [
    {
     "name": "stdout",
     "output_type": "stream",
     "text": [
      "Curve: secp256k1\n",
      "Private key: 0x759cde66bacfb3d00b1f9163ce9ff57f43b7a3a69a8dca03580d7b71d8f56414\n",
      "Public key: (0xd5bc46e75bf693452539c3f77d79cadd42a3a2334c8ecc10da4308d439c8cbb7, 0x354b727054ab9bd1371a3dbaac8011f00265f9a40aba46737407af4d52a5b40f)\n",
      "\n",
      "Message: b'Hello!'\n",
      "Signature: (0x8b0616e85cf42ad767754de3531bd53ce17e9ef0e16b30a7c7110669d677db81, 0xd556ca4f226e8190ebe2a144aa7e67ca3474bb7bbd616e2ab946080ed52a8600)\n",
      "Verification: signature matches\n",
      "\n",
      "Message: b'Hi there!'\n",
      "Verification: invalid signature\n",
      "\n",
      "Message: b'Hello!'\n",
      "Public key: (0x512d3e808103d31d6f39fe2dad120d54b24f4a5ccc082920c77b88f7b206a436, 0xcdd36d85d6765aad6a92d8987ec61e8ab8e86d821c59e778e7d9714935f0dcea)\n",
      "Verification: invalid signature\n"
     ]
    }
   ],
   "source": [
    "from crypto.ecdsa import sign_message, verify_signature\n",
    "\n",
    "print('Curve:', curve.name)\n",
    "\n",
    "private, public = make_keypair()\n",
    "print(\"Private key:\", hex(private))\n",
    "print(\"Public key: (0x{:x}, 0x{:x})\".format(*public))\n",
    "\n",
    "msg = b'Hello!'\n",
    "sign = sign_message(private, msg)\n",
    "\n",
    "print()\n",
    "print('Message:', msg)\n",
    "print('Signature: (0x{:x}, 0x{:x})'.format(*sign))\n",
    "print('Verification:', verify_signature(public, msg, sign))\n",
    "\n",
    "msg = b'Hi there!'\n",
    "print()\n",
    "print('Message:', msg)\n",
    "print('Verification:', verify_signature(public, msg, sign))\n",
    "\n",
    "private, public = make_keypair()\n",
    "\n",
    "msg = b'Hello!'\n",
    "print()\n",
    "print('Message:', msg)\n",
    "print(\"Public key: (0x{:x}, 0x{:x})\".format(*public))\n",
    "print('Verification:', verify_signature(public, msg, sign))\n"
   ],
   "metadata": {
    "collapsed": false
   }
  }
 ],
 "metadata": {
  "kernelspec": {
   "display_name": "Python 3",
   "language": "python",
   "name": "python3"
  },
  "language_info": {
   "codemirror_mode": {
    "name": "ipython",
    "version": 2
   },
   "file_extension": ".py",
   "mimetype": "text/x-python",
   "name": "python",
   "nbconvert_exporter": "python",
   "pygments_lexer": "ipython2",
   "version": "2.7.6"
  }
 },
 "nbformat": 4,
 "nbformat_minor": 0
}
